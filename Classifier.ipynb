{
 "cells": [
  {
   "cell_type": "markdown",
   "source": [
    "## ALL-Classifier\r\n",
    "### A Fast and Efficient CNN Model for B-ALL Diagnosis and its Subtypes Classification using Peripheral Blood Smear Images.\r\n",
    "#### _ Mehrad Aria"
   ],
   "metadata": {}
  },
  {
   "cell_type": "code",
   "execution_count": 1,
   "source": [
    "import tensorflow\r\n",
    "from tensorflow.keras.models import load_model\r\n",
    "import numpy as np\r\n",
    "import os\r\n",
    "import cv2\r\n",
    "import datetime\r\n",
    "tensorflow.__version__"
   ],
   "outputs": [
    {
     "output_type": "execute_result",
     "data": {
      "text/plain": [
       "'2.6.0'"
      ]
     },
     "metadata": {},
     "execution_count": 1
    }
   ],
   "metadata": {}
  },
  {
   "cell_type": "code",
   "execution_count": 2,
   "source": [
    "Classifier = load_model('./Models/model.h5')"
   ],
   "outputs": [
    {
     "output_type": "stream",
     "name": "stdout",
     "text": [
      "WARNING:tensorflow:Mixed precision compatibility check (mixed_float16): WARNING\n",
      "Your GPU may run slowly with dtype policy mixed_float16 because it does not have compute capability of at least 7.0. Your GPU:\n",
      "  NVIDIA GeForce GTX 1050, compute capability 6.1\n",
      "See https://developer.nvidia.com/cuda-gpus for a list of GPUs and their compute capabilities.\n",
      "If you will use compatible GPU(s) not attached to this host, e.g. by running a multi-worker model, you can ignore this warning. This message will only be logged once\n"
     ]
    }
   ],
   "metadata": {}
  },
  {
   "cell_type": "code",
   "execution_count": 22,
   "source": [
    "Test_org = './Test-images/WBC-Benign-001.jpg'\r\n",
    "\r\n",
    "light_orange = (168, 50, 50)\r\n",
    "dark_orange = (182, 255, 255)\r\n",
    "\r\n",
    "image = cv2.imread(Test_org)\r\n",
    "image = cv2.cvtColor(image, cv2.COLOR_RGB2HSV)\r\n",
    "mask = cv2.inRange(image, light_orange, dark_orange)\r\n",
    "result = cv2.bitwise_and(image, image, mask=mask)\r\n",
    "result = cv2.resize(result, (224, 224))\r\n",
    "image_name = Test_org.split(sep='/')[-1]\r\n",
    "Test_seg = f'./Test-images/Seg-{image_name}'\r\n",
    "cv2.imwrite(Test_seg, result)"
   ],
   "outputs": [
    {
     "output_type": "execute_result",
     "data": {
      "text/plain": [
       "True"
      ]
     },
     "metadata": {},
     "execution_count": 22
    }
   ],
   "metadata": {}
  },
  {
   "cell_type": "code",
   "execution_count": 23,
   "source": [
    "categories = ['Benign', 'Early', 'Pre', 'Pro']\r\n",
    "\r\n",
    "def input_samples (TEST):\r\n",
    "    test_img = tensorflow.keras.preprocessing.image.load_img(TEST, target_size=(224, 224))\r\n",
    "    x = tensorflow.keras.preprocessing.image.img_to_array(test_img)\r\n",
    "    x = np.expand_dims(x, axis=0)\r\n",
    "    x = x/255\r\n",
    "    images = np.vstack([x])\r\n",
    "    return images\r\n",
    "\r\n",
    "Test_org = input_samples(Test_org)\r\n",
    "Test_seg = input_samples(Test_seg)\r\n",
    "\r\n",
    "start = datetime.datetime.now()\r\n",
    "\r\n",
    "classes = Classifier.predict([Test_org,Test_seg])\r\n",
    "classes = np.argmax(classes,axis=1)\r\n",
    "print ('Class:', categories[int(classes)])\r\n",
    "\r\n",
    "finish = datetime.datetime.now()\r\n",
    "elapsed = finish - start\r\n",
    "print ('________________\\n')\r\n",
    "print ('Total time elapsed: ', elapsed)"
   ],
   "outputs": [
    {
     "output_type": "stream",
     "name": "stdout",
     "text": [
      "Class: Benign\n",
      "________________\n",
      "\n",
      "Total time elapsed:  0:00:10.829508\n"
     ]
    }
   ],
   "metadata": {}
  }
 ],
 "metadata": {
  "kernelspec": {
   "name": "python3",
   "display_name": "Python 3.8.11 64-bit (conda)"
  },
  "language_info": {
   "codemirror_mode": {
    "name": "ipython",
    "version": 3
   },
   "file_extension": ".py",
   "mimetype": "text/x-python",
   "name": "python",
   "nbconvert_exporter": "python",
   "pygments_lexer": "ipython3",
   "version": "3.8.11"
  },
  "interpreter": {
   "hash": "4881f5eacd7088bcf5a836f9e344288743d588393de6dc96f82d4b26fa31d287"
  }
 },
 "nbformat": 4,
 "nbformat_minor": 4
}